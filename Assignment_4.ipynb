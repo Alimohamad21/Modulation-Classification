{
  "cells": [
    {
      "cell_type": "markdown",
      "source": [
        "# **Imports**"
      ],
      "metadata": {
        "id": "2AixgM3v5m2U"
      }
    },
    {
      "cell_type": "code",
      "execution_count": null,
      "metadata": {
        "colab": {
          "base_uri": "https://localhost:8080/"
        },
        "id": "w7HROJYcwqd4",
        "outputId": "deeee387-e171-4985-9f01-f4c3f9f8d11e"
      },
      "outputs": [
        {
          "output_type": "stream",
          "name": "stdout",
          "text": [
            "Looking in indexes: https://pypi.org/simple, https://us-python.pkg.dev/colab-wheels/public/simple/\n",
            "Collecting pytorch-ignite\n",
            "  Downloading pytorch_ignite-0.4.9-py3-none-any.whl (259 kB)\n",
            "\u001b[K     |████████████████████████████████| 259 kB 5.2 MB/s \n",
            "\u001b[?25hRequirement already satisfied: packaging in /usr/local/lib/python3.7/dist-packages (from pytorch-ignite) (21.3)\n",
            "Requirement already satisfied: torch<2,>=1.3 in /usr/local/lib/python3.7/dist-packages (from pytorch-ignite) (1.11.0+cu113)\n",
            "Requirement already satisfied: typing-extensions in /usr/local/lib/python3.7/dist-packages (from torch<2,>=1.3->pytorch-ignite) (4.1.1)\n",
            "Requirement already satisfied: pyparsing!=3.0.5,>=2.0.2 in /usr/local/lib/python3.7/dist-packages (from packaging->pytorch-ignite) (3.0.9)\n",
            "Installing collected packages: pytorch-ignite\n",
            "Successfully installed pytorch-ignite-0.4.9\n"
          ]
        }
      ],
      "source": [
        "!pip install pytorch-ignite"
      ]
    },
    {
      "cell_type": "code",
      "execution_count": null,
      "metadata": {
        "id": "6tA5nMlOndMR"
      },
      "outputs": [],
      "source": [
        "from google.colab import drive \n",
        "import numpy as np\n",
        "import pickle\n",
        "import math\n",
        "from sklearn.model_selection import train_test_split\n",
        "from ignite.engine import Engine\n",
        "from ignite.metrics import Accuracy\n",
        "\n",
        "from sklearn import preprocessing\n",
        "\n",
        "\n",
        "# PyTorch libraries and modules\n",
        "import torch\n",
        "import torch.nn as nn\n",
        "import torchvision\n",
        "import torchvision.transforms as transforms\n",
        "import torch.cuda\n",
        "torch.cuda.init()\n",
        "cuda = torch.device('cuda')\n",
        "from torch.autograd import Variable\n",
        "from torch.nn import Linear, ReLU, CrossEntropyLoss, Sequential, Conv1d, MaxPool1d , Conv2d, MaxPool2d,BatchNorm2d, Module, Softmax, BatchNorm1d, Dropout\n",
        "from torch.optim import Adam, SGD\n",
        "import torch.nn.functional as F\n",
        "from torch.utils.data import DataLoader,Dataset\n",
        "import matplotlib.pyplot as plt\n",
        "from sklearn.metrics import confusion_matrix, accuracy_score, classification_report,ConfusionMatrixDisplay"
      ]
    },
    {
      "cell_type": "markdown",
      "metadata": {
        "id": "k81QgGwGvNXJ"
      },
      "source": [
        "# **Load Dataset**"
      ]
    },
    {
      "cell_type": "code",
      "execution_count": null,
      "metadata": {
        "colab": {
          "base_uri": "https://localhost:8080/"
        },
        "id": "Eo42fJcZn4iS",
        "outputId": "96d65bfe-dfeb-4e25-d471-da86dd1ceea0"
      },
      "outputs": [
        {
          "output_type": "stream",
          "name": "stdout",
          "text": [
            "Mounted at /content/drive\n"
          ]
        }
      ],
      "source": [
        "drive.mount(\"/content/drive\")\n",
        "path = \"/content/drive/MyDrive/RML2016.10b/RML2016.10b.dat\""
      ]
    },
    {
      "cell_type": "code",
      "execution_count": null,
      "metadata": {
        "id": "qk84mhJLtV7J"
      },
      "outputs": [],
      "source": [
        "with open(path, 'rb') as f:\n",
        "    u = pickle._Unpickler(f)\n",
        "    u.encoding = 'latin1'\n",
        "    p = u.load()"
      ]
    },
    {
      "cell_type": "code",
      "source": [
        "print(p.keys())"
      ],
      "metadata": {
        "colab": {
          "base_uri": "https://localhost:8080/"
        },
        "id": "UX1TmKHsv6pF",
        "outputId": "1c95dc74-91a8-4a12-db7a-11011f78dd15"
      },
      "execution_count": null,
      "outputs": [
        {
          "output_type": "stream",
          "name": "stdout",
          "text": [
            "dict_keys([('QPSK', 2), ('PAM4', 8), ('AM-DSB', -4), ('GFSK', 6), ('QAM64', 8), ('PAM4', 18), ('QAM64', -6), ('QAM16', 2), ('QAM16', -20), ('8PSK', -18), ('PAM4', -6), ('WBFM', -18), ('BPSK', 8), ('CPFSK', 10), ('WBFM', 6), ('BPSK', 4), ('BPSK', -2), ('QPSK', -20), ('CPFSK', -8), ('QAM64', -20), ('QAM16', 12), ('GFSK', -20), ('CPFSK', 0), ('AM-DSB', 6), ('BPSK', -16), ('QPSK', -6), ('8PSK', -12), ('CPFSK', -18), ('AM-DSB', -18), ('QPSK', 8), ('PAM4', 14), ('WBFM', -8), ('AM-DSB', -10), ('GFSK', 12), ('QAM64', 2), ('8PSK', -10), ('QAM64', -4), ('GFSK', -4), ('AM-DSB', 8), ('PAM4', -16), ('QPSK', -16), ('BPSK', 16), ('WBFM', -14), ('CPFSK', 16), ('WBFM', 0), ('QPSK', 6), ('BPSK', 14), ('AM-DSB', -8), ('GFSK', -10), ('CPFSK', -2), ('QAM16', 8), ('QAM16', 6), ('QAM16', -16), ('QAM64', 18), ('CPFSK', 6), ('BPSK', 0), ('BPSK', -6), ('8PSK', -14), ('CPFSK', -12), ('WBFM', 10), ('BPSK', -20), ('PAM4', 4), ('GFSK', 10), ('QAM16', -6), ('QAM64', 4), ('PAM4', -20), ('8PSK', 10), ('QAM64', -10), ('GFSK', -6), ('AM-DSB', 2), ('PAM4', -10), ('QPSK', -2), ('8PSK', -8), ('8PSK', 0), ('QPSK', 12), ('8PSK', 12), ('AM-DSB', -14), ('GFSK', 0), ('QAM64', 14), ('QAM64', -8), ('QAM16', 0), ('GFSK', -16), ('WBFM', 2), ('PAM4', -4), ('QPSK', -12), ('WBFM', -20), ('CPFSK', 12), ('WBFM', 4), ('BPSK', 10), ('BPSK', -4), ('QPSK', -18), ('CPFSK', -6), ('BPSK', -12), ('8PSK', 16), ('QAM16', 10), ('QAM16', -12), ('WBFM', -6), ('8PSK', -20), ('CPFSK', 2), ('QPSK', 16), ('AM-DSB', 4), ('BPSK', -10), ('WBFM', -4), ('CPFSK', -16), ('WBFM', -16), ('QPSK', 10), ('PAM4', 0), ('AM-DSB', -12), ('GFSK', 14), ('QAM16', -2), ('QAM64', 0), ('WBFM', -10), ('QAM64', -14), ('GFSK', -2), ('AM-DSB', 14), ('PAM4', -14), ('QPSK', -14), ('8PSK', -4), ('CPFSK', 18), ('8PSK', 4), ('QPSK', 0), ('BPSK', 12), ('AM-DSB', -2), ('GFSK', 4), ('QAM64', 10), ('8PSK', 2), ('QAM16', -10), ('PAM4', 16), ('QAM16', 4), ('GFSK', 8), ('QAM16', -18), ('QAM64', 16), ('PAM4', -8), ('WBFM', 16), ('WBFM', 14), ('CPFSK', 8), ('BPSK', 6), ('BPSK', -8), ('CPFSK', -10), ('PAM4', 6), ('QAM64', -18), ('QAM16', 14), ('QAM16', -8), ('PAM4', -18), ('AM-DSB', 18), ('QAM64', -12), ('AM-DSB', 0), ('BPSK', -14), ('QPSK', -8), ('8PSK', -6), ('CPFSK', -20), ('GFSK', 16), ('WBFM', 8), ('QPSK', 14), ('PAM4', 12), ('AM-DSB', -16), ('GFSK', 2), ('BPSK', -18), ('QAM64', 12), ('QAM64', -2), ('8PSK', 14), ('GFSK', -14), ('BPSK', 18), ('PAM4', -2), ('QPSK', -10), ('CPFSK', 14), ('8PSK', 8), ('QPSK', 4), ('AM-DSB', 16), ('AM-DSB', -6), ('CPFSK', -4), ('WBFM', -2), ('8PSK', 18), ('GFSK', 18), ('QAM16', -14), ('AM-DSB', 10), ('WBFM', -12), ('CPFSK', 4), ('QPSK', 18), ('BPSK', 2), ('AM-DSB', -20), ('8PSK', -16), ('CPFSK', -14), ('WBFM', 18), ('PAM4', 2), ('QAM16', 18), ('QAM16', -4), ('QAM64', 6), ('GFSK', -18), ('PAM4', 10), ('QAM64', -16), ('QAM16', 16), ('GFSK', -8), ('AM-DSB', 12), ('PAM4', -12), ('QPSK', -4), ('8PSK', -2), ('GFSK', -12), ('8PSK', 6), ('WBFM', 12)])\n"
          ]
        }
      ]
    },
    {
      "cell_type": "code",
      "source": [
        "p['CPFSK', 16].shape"
      ],
      "metadata": {
        "colab": {
          "base_uri": "https://localhost:8080/"
        },
        "id": "9HhJ-R_twBqg",
        "outputId": "27b82d54-ace5-4c6a-e409-b4a110bcb401"
      },
      "execution_count": null,
      "outputs": [
        {
          "output_type": "execute_result",
          "data": {
            "text/plain": [
              "(6000, 2, 128)"
            ]
          },
          "metadata": {},
          "execution_count": 6
        }
      ]
    },
    {
      "cell_type": "code",
      "source": [
        "print(p['CPFSK', 16])"
      ],
      "metadata": {
        "colab": {
          "base_uri": "https://localhost:8080/"
        },
        "id": "kxoonWJ0snf3",
        "outputId": "589efdbb-0ded-4a73-f396-d9151eb00175"
      },
      "execution_count": null,
      "outputs": [
        {
          "output_type": "stream",
          "name": "stdout",
          "text": [
            "[[[-8.4336055e-03 -7.4529098e-03 -6.5865787e-03 ...  5.8436426e-03\n",
            "    6.4632334e-03  7.7720531e-03]\n",
            "  [-3.0449990e-03 -4.4847154e-03 -5.8819586e-03 ...  2.8013648e-03\n",
            "    1.6313108e-03  1.9426958e-03]]\n",
            "\n",
            " [[ 5.1456993e-03  3.9467127e-03  3.1666001e-03 ...  7.6177912e-03\n",
            "    6.9069103e-03  6.0117044e-03]\n",
            "  [-4.3870406e-03 -5.3037172e-03 -6.0104853e-03 ...  3.8679331e-03\n",
            "    5.0076349e-03  6.2285536e-03]]\n",
            "\n",
            " [[-3.0032482e-03 -1.5474415e-03  9.8395958e-06 ... -6.6704229e-03\n",
            "   -5.7166354e-03 -4.7606654e-03]\n",
            "  [-7.9068402e-03 -8.1802756e-03 -8.2536871e-03 ... -4.8993239e-03\n",
            "   -6.0974243e-03 -7.1471981e-03]]\n",
            "\n",
            " ...\n",
            "\n",
            " [[-8.8934284e-03 -7.0061348e-03 -5.5192257e-03 ... -7.2657885e-03\n",
            "   -7.5627132e-03 -7.0539610e-03]\n",
            "  [ 2.0400684e-03  3.3344433e-03  5.0496161e-03 ... -1.1637282e-03\n",
            "    2.1522508e-04  1.6901256e-03]]\n",
            "\n",
            " [[ 8.0783647e-03  7.6847030e-03  6.7839944e-03 ...  6.5089697e-03\n",
            "    6.3169380e-03  5.6353081e-03]\n",
            "  [ 1.7798715e-03  3.2191949e-03  4.8732162e-03 ... -1.4278805e-03\n",
            "   -2.7564615e-03 -3.8651985e-03]]\n",
            "\n",
            " [[-9.3431139e-05 -1.4231422e-03 -2.6339600e-03 ...  7.6093446e-03\n",
            "    6.7661665e-03  5.8986722e-03]\n",
            "  [-6.7058057e-03 -6.6023320e-03 -6.1617456e-03 ...  3.6957925e-03\n",
            "    4.9395850e-03  6.3660243e-03]]]\n"
          ]
        }
      ]
    },
    {
      "cell_type": "code",
      "execution_count": null,
      "metadata": {
        "id": "cvcdbNkjt81_"
      },
      "outputs": [],
      "source": [
        "snrs,mods = map(lambda j: sorted(list(set(map(lambda x: x[j], p.keys())))), [1,0])\n",
        "X = []  \n",
        "lbl = []\n",
        "for mod in mods:\n",
        "    for snr in snrs:\n",
        "        X.append(p[(mod,snr)])\n",
        "        for i in range(p[(mod,snr)].shape[0]):  lbl.append((mod,snr))\n",
        "X = np.vstack(X)"
      ]
    },
    {
      "cell_type": "markdown",
      "metadata": {
        "id": "r6Y38F0x7xA0"
      },
      "source": [
        "\n",
        "\n",
        "> Waveform Array\n",
        "\n",
        "\n"
      ]
    },
    {
      "cell_type": "code",
      "execution_count": null,
      "metadata": {
        "colab": {
          "base_uri": "https://localhost:8080/"
        },
        "id": "x2wuiwWpqMcY",
        "outputId": "67e3e1d4-d00a-455d-8b77-ebc671d20a96"
      },
      "outputs": [
        {
          "output_type": "stream",
          "name": "stdout",
          "text": [
            "(1200000, 2, 128)\n"
          ]
        }
      ],
      "source": [
        "print(X.shape)"
      ]
    },
    {
      "cell_type": "markdown",
      "metadata": {
        "id": "d290-fsL8MUE"
      },
      "source": [
        "\n",
        "\n",
        "> Different Labels(Modulations)\n",
        "\n"
      ]
    },
    {
      "cell_type": "code",
      "execution_count": null,
      "metadata": {
        "colab": {
          "base_uri": "https://localhost:8080/"
        },
        "id": "oZWExoD054tp",
        "outputId": "15bedd7f-7069-4fef-9551-042882dd3371"
      },
      "outputs": [
        {
          "output_type": "stream",
          "name": "stdout",
          "text": [
            "{'QAM64', 'QPSK', 'QAM16', 'AM-DSB', '8PSK', 'BPSK', 'CPFSK', 'PAM4', 'GFSK', 'WBFM'}\n"
          ]
        }
      ],
      "source": [
        "print(set(np.array(lbl)[:,0]))"
      ]
    },
    {
      "cell_type": "code",
      "execution_count": null,
      "metadata": {
        "id": "8uj1KQcC3Hnm"
      },
      "outputs": [],
      "source": [
        "y = np.array(lbl)"
      ]
    },
    {
      "cell_type": "markdown",
      "metadata": {
        "id": "dGzVelBZ8YRV"
      },
      "source": [
        "\n",
        "\n",
        "> Encode labels to integers\n",
        "\n"
      ]
    },
    {
      "cell_type": "code",
      "execution_count": null,
      "metadata": {
        "id": "OiAnvLZS4bRJ"
      },
      "outputs": [],
      "source": [
        "le = preprocessing.LabelEncoder()\n",
        "le.fit(y[:,0])\n",
        "y = le.transform(y[:,0])\n",
        "y_new=[]\n",
        "for i in range(len(y)):\n",
        "  y_new.append([y[i],lbl[i][1]])"
      ]
    },
    {
      "cell_type": "code",
      "source": [
        "y=np.array(y_new)"
      ],
      "metadata": {
        "id": "n1QS01uUwjXy"
      },
      "execution_count": null,
      "outputs": []
    },
    {
      "cell_type": "code",
      "source": [
        "print(y.shape)"
      ],
      "metadata": {
        "colab": {
          "base_uri": "https://localhost:8080/"
        },
        "id": "AxlT8TxFwnDQ",
        "outputId": "f8303639-d2c4-42cb-9cca-81cf10e17f9c"
      },
      "execution_count": null,
      "outputs": [
        {
          "output_type": "stream",
          "name": "stdout",
          "text": [
            "(1200000, 2)\n"
          ]
        }
      ]
    },
    {
      "cell_type": "markdown",
      "metadata": {
        "id": "isAtVHUZxLeE"
      },
      "source": [
        "# **Split Dataset**"
      ]
    },
    {
      "cell_type": "code",
      "execution_count": null,
      "metadata": {
        "id": "_vfLdGflxKj1"
      },
      "outputs": [],
      "source": [
        "x_train, x_rem, y_train, y_rem = train_test_split(X, y, train_size=0.7, test_size=0.3, stratify=lbl)\n",
        "x_val, x_test, y_val, y_test = train_test_split(x_rem, y_rem, train_size=1/6, test_size=5/6,stratify=y_rem)"
      ]
    },
    {
      "cell_type": "markdown",
      "metadata": {
        "id": "iExykPM8x19b"
      },
      "source": [
        "# **Reshape Dataset**"
      ]
    },
    {
      "cell_type": "code",
      "execution_count": null,
      "metadata": {
        "id": "zyOLYOuLx6PS"
      },
      "outputs": [],
      "source": [
        "x_train = x_train.reshape(x_train.shape[0],1,x_train.shape[1],x_train.shape[2])\n",
        "x_val = x_val.reshape(x_val.shape[0],1,x_val.shape[1],x_val.shape[2])\n",
        "x_test = x_test.reshape(x_test.shape[0],1,x_test.shape[1],x_test.shape[2])"
      ]
    },
    {
      "cell_type": "code",
      "execution_count": null,
      "metadata": {
        "id": "HWIj2DN2wXxp"
      },
      "outputs": [],
      "source": [
        "def run_model(model,optimizer,dataloader,val_dataloader,train = True):\n",
        "  accuracy = Accuracy()\n",
        "  if torch.cuda.is_available():\n",
        "         device = \"cuda\"\n",
        "  else:\n",
        "        device = \"cpu\"\n",
        "  model = model.cuda()\n",
        "  if train:\n",
        "    model.train()\n",
        "  loss = nn.CrossEntropyLoss()\n",
        "  total_loss = 0\n",
        "  for data,label in dataloader:\n",
        "    data = data.to(cuda)\n",
        "    optimizer.zero_grad()\n",
        "    label = label.type(torch.LongTensor)\n",
        "    label = label.to(cuda)\n",
        "    output = model(data)\n",
        "    # print(\"Output\",output)\n",
        "    # print(\"Label\",label)\n",
        "    loss_ = loss(output, label)\n",
        "    total_loss += loss_.item()\n",
        "    loss_.backward()\n",
        "    optimizer.step()\n",
        "    accuracy.update((output,label))\n",
        "    torch.cuda.empty_cache()\n",
        "\n",
        "  \n",
        "  model.eval()\n",
        "  accuracy_val = Accuracy()\n",
        "  total_lossVal = 0\n",
        "  for data , label in val_dataloader:\n",
        "    data = data.to(cuda)\n",
        "    label = label.type(torch.LongTensor)\n",
        "    label = label.to(cuda)\n",
        "    output = model(data)\n",
        "    loss_ = loss(output, label)\n",
        "    total_lossVal += loss_.item()\n",
        "    accuracy_val.update((output,label))\n",
        "    torch.cuda.empty_cache()\n",
        "  return accuracy.compute(),accuracy_val.compute(),total_loss/len(dataloader),total_lossVal/len(val_dataloader)"
      ]
    },
    {
      "cell_type": "code",
      "execution_count": null,
      "metadata": {
        "id": "7twikSZVwbvw"
      },
      "outputs": [],
      "source": [
        "## first class for reflecting dataset  \n",
        "class myDataset(Dataset):\n",
        "  def __init__(self, array, label):\n",
        "    self.array = array\n",
        "    self.label = label\n",
        "\n",
        "  def __getitem__(self, index):\n",
        "    #takes index and return trainig example and its label\n",
        "\n",
        "    return torch.tensor(self.array[index], dtype=torch.float),torch.tensor(self.label[index],dtype=torch.int)\n",
        "  def __len__(self):\n",
        "    #returns number of examples\n",
        "    return len(self.array)"
      ]
    },
    {
      "cell_type": "code",
      "execution_count": null,
      "metadata": {
        "id": "MNow5JbYyeom"
      },
      "outputs": [],
      "source": [
        "def train(model,epochs=1):\n",
        "  dataset = myDataset(x_train,y_train[:,0])\n",
        "  dataloader = DataLoader(dataset, batch_size = BATCH_SIZE, shuffle = True)\n",
        "  val_dataset = myDataset(x_val,y_val[:,0])\n",
        "  val_dataloader = DataLoader(val_dataset, batch_size = BATCH_SIZE, shuffle = False)\n",
        "  optimizer = torch.optim.Adam(model.parameters(), 0.001)\n",
        "  scheduler = torch.optim.lr_scheduler.ReduceLROnPlateau(optimizer, patience=2, factor=.1, threshold=1e-4)\n",
        "  epochs_list=[]\n",
        "  validation_losses=[]\n",
        "  training_losses=[]\n",
        "  training_accuracies=[]\n",
        "  validation_accuracies=[]\n",
        "  for epoch in range(epochs):\n",
        "      print(f\"Epoch {epoch + 1}\\n-------------------------------\")\n",
        "      accuracy,accuracy_val,loss,loss_val = run_model(model,optimizer,dataloader,val_dataloader)\n",
        "      #scheduler.step(loss_val)\n",
        "      epochs_list.append(epoch+1)\n",
        "      validation_losses.append(loss_val)\n",
        "      training_losses.append(loss)\n",
        "      validation_accuracies.append(accuracy_val)\n",
        "      training_accuracies.append(accuracy)\n",
        "      print(f\"Training Loss: {loss}\")\n",
        "      print(f\"Training Accuracy: {accuracy*100}\")\n",
        "      print(f\"Validation Loss: {loss_val}\")\n",
        "      print(f\"Validation Accuracy: {accuracy_val*100}\")\n",
        "      print(\"-------------------------------\")\n",
        "  plt.plot(epochs_list,training_accuracies)\n",
        "  plt.plot(epochs_list,validation_accuracies)\n",
        "  plt.xlabel('Epochs')\n",
        "  plt.ylabel('Accuracy')\n",
        "  plt.title('Training vs Validation Accuracies')\n",
        "  plt.legend(['Training','Validation'])\n",
        "  plt.show()\n",
        "  plt.plot(epochs_list,training_losses)\n",
        "  plt.plot(epochs_list,validation_losses)\n",
        "  plt.xlabel('Epochs')\n",
        "  plt.ylabel('Loss')\n",
        "  plt.title('Training vs Validation Losses')\n",
        "  plt.legend(['Training','Validation'])\n",
        "  plt.show()"
      ]
    },
    {
      "cell_type": "code",
      "source": [
        "def test(model,x_snr,y_snr,plot=False):\n",
        "  test_dataset = myDataset(x_snr,y_snr[:,0])\n",
        "  test_dataloader = DataLoader(test_dataset, batch_size = BATCH_SIZE, shuffle = False)\n",
        "  model.eval()\n",
        "  test_accuracy = Accuracy()\n",
        "  test_loss = 0\n",
        "  y_predict=[]\n",
        "  loss = nn.CrossEntropyLoss()\n",
        "  for data , label in test_dataloader:\n",
        "    data = data.to(cuda)\n",
        "    label = label.type(torch.LongTensor)\n",
        "    label = label.to(cuda)\n",
        "    output = model(data)\n",
        "    for tensor_value in output:\n",
        "          y_predict.append(torch.argmax(tensor_value).data.cpu().numpy())\n",
        "    loss_ = loss(output, label)\n",
        "    test_loss += loss_.item()\n",
        "    test_accuracy.update((output,label))\n",
        "    torch.cuda.empty_cache()\n",
        "  y_predict=np.array(y_predict)\n",
        "  accuracy=accuracy_score(y_snr[:,0],y_predict)\n",
        "  if plot==True:\n",
        "    print(f'Test Accuracy:{accuracy}')\n",
        "    print(f'Test Loss:{test_loss/len(test_dataloader)}')\n",
        "    print(f'Accuracy Report:\\n{classification_report(y_snr[:,0],y_predict)}')\n",
        "    cm = confusion_matrix(y_snr[:,0], y_predict)\n",
        "    classes =  ['8PSK','AM-DSB','BPSK','CPFSK','GFSK','PAM4','QAM16','QAM64','QPSK','WBFM']\n",
        "    disp = ConfusionMatrixDisplay(confusion_matrix=cm, display_labels=classes)\n",
        "    fig, ax = plt.subplots(figsize=(15, 15))\n",
        "    plt.title('Confusion Matrix')\n",
        "    disp.plot(ax=ax,cmap=plt.cm.Blues)\n",
        "    plt.show()\n",
        "  return accuracy"
      ],
      "metadata": {
        "id": "4hU8PJJM0WqV"
      },
      "execution_count": null,
      "outputs": []
    },
    {
      "cell_type": "code",
      "source": [
        "def test_snrs(model):\n",
        "  snrs=[]\n",
        "  for i in range(-20,20,2):\n",
        "    snrs.append(i)\n",
        "  snrs_x=dict()\n",
        "  snrs_y=dict()\n",
        "  for snr in snrs:\n",
        "     snrs_x[snr]=[]\n",
        "     snrs_y[snr]=[]\n",
        "  for i in range(len(y_test)):\n",
        "     snr=y_test[i][1]\n",
        "     snrs_x[snr].append(x_test[i])\n",
        "     snrs_y[snr].append(y_test[i])\n",
        "  accuracies=[]\n",
        "  accuracy_sum=0\n",
        "  for snr in snrs:\n",
        "    if snr==0:\n",
        "      accuracy=test(model,np.array(snrs_x[snr]),np.array(snrs_y[snr]),plot=True)\n",
        "    else:\n",
        "      accuracy=test(model,np.array(snrs_x[snr]),np.array(snrs_y[snr]))\n",
        "    accuracy_sum+=accuracy\n",
        "    accuracies.append(accuracy)\n",
        "  print('\\n\\n\\n')\n",
        "  plt.plot(snrs,accuracies)\n",
        "  plt.xlabel('SNR')\n",
        "  plt.ylabel('Accuracy')\n",
        "  plt.title('Accuracy for each SNR')\n",
        "  plt.show()\n",
        "  print(f'\\n\\n\\nAverage Accuracy:{accuracy_sum/len(snrs)}')\n"
      ],
      "metadata": {
        "id": "aB20nVft2Q6w"
      },
      "execution_count": null,
      "outputs": []
    },
    {
      "cell_type": "code",
      "execution_count": null,
      "metadata": {
        "id": "bic4KQa-yWdd"
      },
      "outputs": [],
      "source": [
        "from torchsummary import summary\n",
        "class CNNModel(Module):   \n",
        "    def __init__(self):\n",
        "        super(CNNModel, self).__init__()\n",
        "        self.conv1 = Conv2d(1, 64, kernel_size=(2,2), stride=1).to(cuda)\n",
        "\n",
        "        self.conv2 = Conv2d(64, 16, kernel_size=(1,1), stride=1).to(cuda)\n",
        "\n",
        "        self.fc1 = Linear(2032,128).to(cuda)\n",
        "\n",
        "        self.fc2 = Linear(128,11).to(cuda)\n",
        "   \n",
        "\n",
        "    # Defining the forward pass    \n",
        "    def forward(self, x):\n",
        "        x = self.conv1(x).to(cuda)\n",
        "        x = F.relu(x).to(cuda)\n",
        "\n",
        "        x = self.conv2(x).to(cuda)\n",
        "        x = F.relu(x).to(cuda)\n",
        "\n",
        "        x = torch.flatten(x,1).to(cuda)\n",
        "\n",
        "        x = self.fc1(x).to(cuda)\n",
        "        x = F.relu(x).to(cuda)\n",
        "        x = self.fc2(x).to(cuda)\n",
        "        x = F.log_softmax(x,dim=1).to(cuda)\n",
        "\n",
        "                \n",
        "        return x"
      ]
    },
    {
      "cell_type": "code",
      "execution_count": null,
      "metadata": {
        "colab": {
          "base_uri": "https://localhost:8080/"
        },
        "id": "4ntldvJ5yX9a",
        "outputId": "45a2fef5-4fa5-4d29-9f63-8ab052f492a5"
      },
      "outputs": [
        {
          "output_type": "stream",
          "name": "stdout",
          "text": [
            "----------------------------------------------------------------\n",
            "        Layer (type)               Output Shape         Param #\n",
            "================================================================\n",
            "            Conv2d-1           [32, 64, 1, 127]             320\n",
            "            Conv2d-2           [32, 16, 1, 127]           1,040\n",
            "            Linear-3                  [32, 128]         260,224\n",
            "            Linear-4                   [32, 11]           1,419\n",
            "================================================================\n",
            "Total params: 263,003\n",
            "Trainable params: 263,003\n",
            "Non-trainable params: 0\n",
            "----------------------------------------------------------------\n",
            "Input size (MB): 0.03\n",
            "Forward/backward pass size (MB): 2.51\n",
            "Params size (MB): 1.00\n",
            "Estimated Total Size (MB): 3.55\n",
            "----------------------------------------------------------------\n"
          ]
        }
      ],
      "source": [
        "model = CNNModel()\n",
        "BATCH_SIZE = 32\n",
        "summary(model, (  1, 2, 128),BATCH_SIZE)"
      ]
    },
    {
      "cell_type": "code",
      "source": [
        "train(model,epochs=20)"
      ],
      "metadata": {
        "colab": {
          "base_uri": "https://localhost:8080/",
          "height": 1000
        },
        "id": "w6p1eUvlZ8h9",
        "outputId": "d8855fe9-1248-476f-994d-58e04a1dee2d"
      },
      "execution_count": null,
      "outputs": [
        {
          "output_type": "stream",
          "name": "stdout",
          "text": [
            "Epoch 1\n",
            "-------------------------------\n",
            "Training Loss: 1.7104479225544702\n",
            "Training Accuracy: 33.06202380952381\n",
            "Validation Loss: 1.508261495145162\n",
            "Validation Accuracy: 40.28666666666666\n",
            "-------------------------------\n",
            "Epoch 2\n",
            "-------------------------------\n",
            "Training Loss: 1.431450179174968\n",
            "Training Accuracy: 42.99464285714286\n",
            "Validation Loss: 1.3689701726913452\n",
            "Validation Accuracy: 45.14333333333334\n",
            "-------------------------------\n",
            "Epoch 3\n",
            "-------------------------------\n",
            "Training Loss: 1.2945856958911532\n",
            "Training Accuracy: 47.037261904761905\n",
            "Validation Loss: 1.271022610537211\n",
            "Validation Accuracy: 47.596666666666664\n",
            "-------------------------------\n",
            "Epoch 4\n",
            "-------------------------------\n",
            "Training Loss: 1.238790795737221\n",
            "Training Accuracy: 48.70107142857143\n",
            "Validation Loss: 1.2514350358963013\n",
            "Validation Accuracy: 48.693333333333335\n",
            "-------------------------------\n",
            "Epoch 5\n",
            "-------------------------------\n",
            "Training Loss: 1.2201959126199995\n",
            "Training Accuracy: 49.360952380952384\n",
            "Validation Loss: 1.227676364103953\n",
            "Validation Accuracy: 48.693333333333335\n",
            "-------------------------------\n",
            "Epoch 6\n",
            "-------------------------------\n",
            "Training Loss: 1.2100810792196364\n",
            "Training Accuracy: 49.773809523809526\n",
            "Validation Loss: 1.2207640129089354\n",
            "Validation Accuracy: 49.864999999999995\n",
            "-------------------------------\n",
            "Epoch 7\n",
            "-------------------------------\n",
            "Training Loss: 1.2025058928762165\n",
            "Training Accuracy: 50.025595238095235\n",
            "Validation Loss: 1.214385336748759\n",
            "Validation Accuracy: 49.76333333333333\n",
            "-------------------------------\n",
            "Epoch 8\n",
            "-------------------------------\n",
            "Training Loss: 1.19728048060508\n",
            "Training Accuracy: 50.225119047619046\n",
            "Validation Loss: 1.199313995138804\n",
            "Validation Accuracy: 49.81333333333333\n",
            "-------------------------------\n",
            "Epoch 9\n",
            "-------------------------------\n",
            "Training Loss: 1.1928275078728086\n",
            "Training Accuracy: 50.36178571428571\n",
            "Validation Loss: 1.219618202082316\n",
            "Validation Accuracy: 50.095\n",
            "-------------------------------\n",
            "Epoch 10\n",
            "-------------------------------\n",
            "Training Loss: 1.189998152131126\n",
            "Training Accuracy: 50.458214285714284\n",
            "Validation Loss: 1.225574655119578\n",
            "Validation Accuracy: 49.23166666666667\n",
            "-------------------------------\n",
            "Epoch 11\n",
            "-------------------------------\n",
            "Training Loss: 1.187074300977162\n",
            "Training Accuracy: 50.60690476190476\n",
            "Validation Loss: 1.201175194676717\n",
            "Validation Accuracy: 50.51833333333333\n",
            "-------------------------------\n",
            "Epoch 12\n",
            "-------------------------------\n",
            "Training Loss: 1.1845392321473076\n",
            "Training Accuracy: 50.68154761904762\n",
            "Validation Loss: 1.2196963970184327\n",
            "Validation Accuracy: 49.278333333333336\n",
            "-------------------------------\n",
            "Epoch 13\n",
            "-------------------------------\n",
            "Training Loss: 1.182257969247727\n",
            "Training Accuracy: 50.76964285714286\n",
            "Validation Loss: 1.2027808057785034\n",
            "Validation Accuracy: 50.305\n",
            "-------------------------------\n",
            "Epoch 14\n",
            "-------------------------------\n",
            "Training Loss: 1.1800255958080292\n",
            "Training Accuracy: 50.849642857142854\n",
            "Validation Loss: 1.1987927245457968\n",
            "Validation Accuracy: 50.334999999999994\n",
            "-------------------------------\n",
            "Epoch 15\n",
            "-------------------------------\n",
            "Training Loss: 1.1784664520309085\n",
            "Training Accuracy: 50.8675\n",
            "Validation Loss: 1.1982761731147766\n",
            "Validation Accuracy: 49.97833333333334\n",
            "-------------------------------\n",
            "Epoch 16\n",
            "-------------------------------\n",
            "Training Loss: 1.1771459211394901\n",
            "Training Accuracy: 50.909642857142856\n",
            "Validation Loss: 1.2017884227752686\n",
            "Validation Accuracy: 50.21333333333333\n",
            "-------------------------------\n",
            "Epoch 17\n",
            "-------------------------------\n",
            "Training Loss: 1.1753585498401098\n",
            "Training Accuracy: 50.95559523809524\n",
            "Validation Loss: 1.1902800655364991\n",
            "Validation Accuracy: 49.95166666666667\n",
            "-------------------------------\n",
            "Epoch 18\n",
            "-------------------------------\n",
            "Training Loss: 1.1744231051274707\n",
            "Training Accuracy: 51.06142857142857\n",
            "Validation Loss: 1.2143083665211996\n",
            "Validation Accuracy: 49.91166666666666\n",
            "-------------------------------\n",
            "Epoch 19\n",
            "-------------------------------\n",
            "Training Loss: 1.172729474415098\n",
            "Training Accuracy: 51.0977380952381\n",
            "Validation Loss: 1.191151876227061\n",
            "Validation Accuracy: 50.76666666666667\n",
            "-------------------------------\n",
            "Epoch 20\n",
            "-------------------------------\n",
            "Training Loss: 1.1720169695729301\n",
            "Training Accuracy: 51.12880952380953\n",
            "Validation Loss: 1.207038914903005\n",
            "Validation Accuracy: 48.94\n",
            "-------------------------------\n"
          ]
        },
        {
          "output_type": "display_data",
          "data": {
            "text/plain": [
              "<Figure size 432x288 with 1 Axes>"
            ],
            "image/png": "[encoded data removed]"
          },
          "metadata": {
            "needs_background": "light"
          }
        },
        {
          "output_type": "display_data",
          "data": {
            "text/plain": [
              "<Figure size 432x288 with 1 Axes>"
            ],
            "image/png": "[encoded data removed]"
          },
          "metadata": {
            "needs_background": "light"
          }
        }
      ]
    },
    {
      "cell_type": "code",
      "source": [
        "test_snrs(model)"
      ],
      "metadata": {
        "id": "SWYlaxn6kFYu",
        "colab": {
          "base_uri": "https://localhost:8080/",
          "height": 1000
        },
        "outputId": "2160d951-6b65-4b72-b1e0-67d915b5194a"
      },
      "execution_count": null,
      "outputs": [
        {
          "output_type": "stream",
          "name": "stdout",
          "text": [
            "Test Accuracy:0.6734666666666667\n",
            "Test Loss:0.6473803923074116\n",
            "Accuracy Report:\n",
            "              precision    recall  f1-score   support\n",
            "\n",
            "           0       0.48      0.26      0.34      1500\n",
            "           1       0.59      0.82      0.69      1500\n",
            "           2       0.89      0.87      0.88      1500\n",
            "           3       0.85      0.89      0.87      1500\n",
            "           4       0.93      0.91      0.92      1500\n",
            "           5       0.96      0.94      0.95      1500\n",
            "           6       0.47      0.52      0.50      1500\n",
            "           7       0.54      0.43      0.48      1500\n",
            "           8       0.43      0.64      0.51      1500\n",
            "           9       0.63      0.45      0.52      1500\n",
            "\n",
            "    accuracy                           0.67     15000\n",
            "   macro avg       0.68      0.67      0.67     15000\n",
            "weighted avg       0.68      0.67      0.67     15000\n",
            "\n"
          ]
        },
        {
          "output_type": "display_data",
          "data": {
            "text/plain": [
              "<Figure size 1080x1080 with 2 Axes>"
            ],
            "image/png": "[encoded data removed]"
          },
          "metadata": {
            "needs_background": "light"
          }
        },
        {
          "output_type": "stream",
          "name": "stdout",
          "text": [
            "\n",
            "\n",
            "\n",
            "\n"
          ]
        },
        {
          "output_type": "display_data",
          "data": {
            "text/plain": [
              "<Figure size 432x288 with 1 Axes>"
            ],
            "image/png": "[encoded data removed]"
          },
          "metadata": {
            "needs_background": "light"
          }
        },
        {
          "output_type": "stream",
          "name": "stdout",
          "text": [
            "\n",
            "\n",
            "\n",
            "Average Accuracy:0.49024\n"
          ]
        }
      ]
    },
    {
      "cell_type": "code",
      "source": [
        "class RNNModel(nn.Module):\n",
        "    def __init__(self, input_size, hidden_size, num_layers, num_classes):\n",
        "        super(RNNModel, self).__init__()\n",
        "        self.num_layers = num_layers\n",
        "        self.hidden_size = hidden_size\n",
        "        self.rnn = nn.RNN(input_size, hidden_size, num_layers, batch_first=True)\n",
        "        self.fc = nn.Linear(hidden_size, num_classes)\n",
        "        \n",
        "    def forward(self, x):\n",
        "        h0 = torch.zeros(self.num_layers, x.size(0), self.hidden_size).to(cuda) \n",
        "        out, _ = self.rnn(x, h0)  \n",
        "        out = out[:, -1, :]         \n",
        "        out = self.fc(out)\n",
        "        return out"
      ],
      "metadata": {
        "id": "ZZrOeuVld5JN"
      },
      "execution_count": null,
      "outputs": []
    },
    {
      "cell_type": "code",
      "source": [
        "x_train = x_train.reshape(x_train.shape[0],x_train.shape[2],x_train.shape[3])\n",
        "x_val = x_val.reshape(x_val.shape[0],x_val.shape[2],x_val.shape[3])\n",
        "x_test = x_test.reshape(x_test.shape[0],x_test.shape[2],x_test.shape[3])"
      ],
      "metadata": {
        "id": "1WrrWCVJhbAu"
      },
      "execution_count": null,
      "outputs": []
    },
    {
      "cell_type": "code",
      "source": [
        "sequence_length = 28\n",
        "hidden_size = 128\n",
        "num_layers = 2\n",
        "input_size= 128\n",
        "num_classes=11\n",
        "model = RNNModel(input_size, hidden_size, num_layers, num_classes).to(cuda)\n",
        "summary(model, (2, 128),BATCH_SIZE)"
      ],
      "metadata": {
        "id": "JWAyl0VXTu4J"
      },
      "execution_count": null,
      "outputs": []
    },
    {
      "cell_type": "code",
      "source": [
        "train(model,epochs=20)"
      ],
      "metadata": {
        "id": "EDp64hWChFl3"
      },
      "execution_count": null,
      "outputs": []
    },
    {
      "cell_type": "code",
      "source": [
        "test_snrs(model)"
      ],
      "metadata": {
        "id": "V9tqmm0DhP_C"
      },
      "execution_count": null,
      "outputs": []
    },
    {
      "cell_type": "code",
      "source": [
        "class LSTMModel(nn.Module):\n",
        "    def __init__(self, input_size, hidden_size, num_layers, num_classes):\n",
        "        super(LSTMModel, self).__init__()\n",
        "        self.num_layers = num_layers\n",
        "        self.hidden_size = hidden_size        \n",
        "        self.gru = nn.GRU(input_size, hidden_size, num_layers, batch_first=True)\n",
        "        self.lstm = nn.LSTM(input_size, hidden_size, num_layers, batch_first=True)\n",
        "        self.fc = nn.Linear(hidden_size, num_classes)\n",
        "        \n",
        "    def forward(self, x):\n",
        "        h0 = torch.zeros(self.num_layers, x.size(0), self.hidden_size).to(cuda)\n",
        "        c0 = torch.zeros(self.num_layers, x.size(0), self.hidden_size).to(cuda)   \n",
        "        out, _ = self.lstm(x, (h0,c0))  \n",
        "        out = out[:, -1, :]\n",
        "        out = self.fc(out)\n",
        "        return out"
      ],
      "metadata": {
        "id": "xNurk4KDkFQs"
      },
      "execution_count": null,
      "outputs": []
    },
    {
      "cell_type": "code",
      "source": [
        "sequence_length = 28\n",
        "hidden_size = 128\n",
        "num_layers = 2\n",
        "input_size= 128\n",
        "num_classes=11\n",
        "model = LSTMModel(input_size, hidden_size, num_layers, num_classes).to(cuda)\n"
      ],
      "metadata": {
        "id": "rTfRuzHghNtL"
      },
      "execution_count": null,
      "outputs": []
    },
    {
      "cell_type": "code",
      "source": [
        "train(model,epochs=20)"
      ],
      "metadata": {
        "id": "KG-UmXjUsA2i"
      },
      "execution_count": null,
      "outputs": []
    },
    {
      "cell_type": "code",
      "source": [
        "test_snrs(model)"
      ],
      "metadata": {
        "colab": {
          "base_uri": "https://localhost:8080/",
          "height": 1000
        },
        "id": "t6SXqixE2vUV",
        "outputId": "ac440f34-a0aa-4c7b-f8e8-693d9ef48494"
      },
      "execution_count": null,
      "outputs": [
        {
          "output_type": "stream",
          "name": "stdout",
          "text": [
            "Test Accuracy:0.5068666666666667\n",
            "Test Loss:1.1762995548339794\n",
            "Accuracy Report:\n",
            "              precision    recall  f1-score   support\n",
            "\n",
            "           0       0.31      0.40      0.35      1500\n",
            "           1       0.54      0.31      0.40      1500\n",
            "           2       0.68      0.71      0.69      1500\n",
            "           3       0.62      0.48      0.54      1500\n",
            "           4       0.65      0.78      0.70      1500\n",
            "           5       0.91      0.77      0.83      1500\n",
            "           6       0.31      0.54      0.39      1500\n",
            "           7       0.49      0.22      0.30      1500\n",
            "           8       0.35      0.19      0.24      1500\n",
            "           9       0.45      0.67      0.54      1500\n",
            "\n",
            "    accuracy                           0.51     15000\n",
            "   macro avg       0.53      0.51      0.50     15000\n",
            "weighted avg       0.53      0.51      0.50     15000\n",
            "\n"
          ]
        },
        {
          "output_type": "display_data",
          "data": {
            "text/plain": [
              "<Figure size 1080x1080 with 2 Axes>"
            ],
            "image/png": "[encoded data removed]"
          },
          "metadata": {
            "needs_background": "light"
          }
        },
        {
          "output_type": "display_data",
          "data": {
            "text/plain": [
              "<Figure size 432x288 with 1 Axes>"
            ],
            "image/png": "[encoded data removed]"
          },
          "metadata": {
            "needs_background": "light"
          }
        },
        {
          "output_type": "stream",
          "name": "stdout",
          "text": [
            "Average Accuracy:0.3863333333333333\n"
          ]
        }
      ]
    }
  ],
  "metadata": {
    "accelerator": "GPU",
    "colab": {
      "name": "Assignment#4 CNN final results",
      "provenance": [],
      "collapsed_sections": []
    },
    "kernelspec": {
      "display_name": "Python 3",
      "name": "python3"
    },
    "language_info": {
      "name": "python"
    },
    "gpuClass": "standard"
  },
  "nbformat": 4,
  "nbformat_minor": 0
}